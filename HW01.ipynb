{
 "cells": [
  {
   "cell_type": "markdown",
   "metadata": {},
   "source": [
    "---\n",
    "\n",
    "# Fall 2020 MATH 662 HW01"
   ]
  },
  {
   "cell_type": "markdown",
   "metadata": {},
   "source": [
    "---\n",
    "\n",
    "The following exercises are from [Fundamentals of Numerical Computation](https://fncbook.github.io/fnc/frontmatter.html) by Tobin A. Driscoll and Richard J. Braun and are covered by the [CC BY-SA 4.0 license](https://creativecommons.org/licenses/by-sa/4.0/)."
   ]
  },
  {
   "cell_type": "markdown",
   "metadata": {},
   "source": [
    "---\n",
    "\n",
    "Name: **< YOUR NAME >**\n",
    "\n",
    "Acknowledgements:  **< LIST OF PEOPLE, ONLINE, AND OTHER SOURCES OF HELP >**"
   ]
  },
  {
   "cell_type": "markdown",
   "metadata": {},
   "source": [
    "---\n",
    "\n",
    "## Exercise 1.1.4\n",
    "\n",
    "[IEEE 754](https://en.wikipedia.org/wiki/IEEE_754) _single precision_ specifies that 23 binary bits are used for the mantissa $f$ in \n",
    "\n",
    "$$\n",
    "f = \\sum_{i=1}^d b_i \\, 2^{-i}, \\qquad b_i\\in\\{0,1\\}.\n",
    "$$ \n",
    "\n",
    "Because they need less storage space and can be operated on more quickly than double precision values, single precision values can be useful in low-precision applications.\n",
    "\n",
    "1. In base-10 terms, what is the first single precision number greater than 1 in this system?\n",
    "\n",
    "2. What is the smallest positive integer that is not a single precision number?"
   ]
  },
  {
   "cell_type": "markdown",
   "metadata": {},
   "source": [
    "1. Single precision number(32bit):d=23 digti mantissas,11 digits for exponent e, and a sign bit. So we know 23 is it's limitation. The result is 1.00....01=2^(-23)+1\n",
    "2. Single precision number(32bit):d=23 digti mantissas,11 digits for exponent e, and a sign bit. So we know 10000....001=2^24+1."
   ]
  },
  {
   "cell_type": "markdown",
   "metadata": {},
   "source": [
    "---\n",
    "\n",
    "## Exercise 1.1.6\n",
    "\n",
    "(This problem requires the use of loops in Julia.) It’s reasonable to expect that floating point errors accumulate randomly during a long computation, creating what is known as a _random walk_. On average we expect as many errors to be negative as positive, so they tend to partially cancel out. Suppose we define a random sequence by $x_0 = 0$ and $x_n = x_{n-1} \\pm 1$ for $n \\ge 1$, with the signs chosen by tossing a fair coin for each $n$. Let $\\alpha_n$ and $\\beta_n$ be the average value of $x_n$ and $|x_n|$, respectively, over all such walks. Then a classic result of probability is that $\\alpha_n = 0$ and \n",
    "\n",
    "$$\n",
    "\\lim_{n\\to\\infty} \\frac{\\pi \\beta_n^2}{2n}=1.\n",
    "$$"
   ]
  },
  {
   "cell_type": "markdown",
   "metadata": {},
   "source": [
    "In Julia the function `randn` simulates drawing numbers from the normal or Gaussian distribution (i.e., the bell curve) with mean zero and variance one. Choose a unique positive integer seed value $s$ (for example, use the last five digits of your phone number) and enter `import Rand; Rand.seed!(s)` to initialize the random number generator. Then the following code generates one random walk for $n = 10^4$:\n",
    "\n",
    "```julia\n",
    "r = randn(10000)           # draw random numbers\n",
    "x = sum(sign(z) for z in r)\n",
    "```\n",
    "\n",
    "Perform a million random walks, computing the average values of $x_{10000}$ and $|x_{10000}|$. Compare these to $\\alpha_n = 0$ and $\\beta_n \\approx \\sqrt{2n/\\pi}$ at $n = 10000$."
   ]
  },
  {
   "cell_type": "code",
   "execution_count": 7,
   "metadata": {},
   "outputs": [
    {
     "ename": "LoadError",
     "evalue": "ArgumentError: Package Rand not found in current path:\n- Run `import Pkg; Pkg.add(\"Rand\")` to install the Rand package.\n",
     "output_type": "error",
     "traceback": [
      "ArgumentError: Package Rand not found in current path:\n- Run `import Pkg; Pkg.add(\"Rand\")` to install the Rand package.\n",
      "",
      "Stacktrace:",
      " [1] require(::Module, ::Symbol) at ./loading.jl:893",
      " [2] include_string(::Function, ::Module, ::String, ::String) at ./loading.jl:1091"
     ]
    }
   ],
   "source": [
    "#include(\"FNC.jl\");\n",
    "#Question: How to get the function package in Chap1? \n",
    "include(\"functions/chapter01.jl\") \n",
    "import Rand; Rand.seed!(1992)\n",
    "r=randn(10000)\n",
    "y=sum(r)\n",
    "yave=y/10000\n",
    "x=sum(sigh(z) for z in r)\n",
    "xave=x/10000"
   ]
  },
  {
   "cell_type": "markdown",
   "metadata": {},
   "source": [
    "---\n",
    "\n",
    "## Exercise 1.2.8\n",
    "\n",
    "Generalize the condition number for the problem of finding a root $r$ of the polynomial $ax^2 + bx + c$, having roots $t_1$ and $t_2$, with respect to perturbations only in the coefficient $a$, which is given by\n",
    "\n",
    "$$\n",
    "\\kappa(a)  = \\left|\\frac{a}{r} \\cdot \\frac{dr}{da} \\right| = \\left| \\frac{a r}{ \\sqrt{b^2-4ac}} \\right|\n",
    "= \\left| \\frac{r}{ t_1-t_2} \\right|,\n",
    "$$\n",
    "\n",
    "to finding a root of the $n$th degree polynomial $p(x) = a_nx^n+\\cdots+a_1x+a_0$, and show that the relative condition number of a root $r$ with respect to perturbations only in $a_k$ is \n",
    "\n",
    "$$\n",
    "\\kappa_r(a_k) = \\left| \\frac{a_k r^{k-1}}{p'(r)} \\right|.\n",
    "$$"
   ]
  },
  {
   "cell_type": "code",
   "execution_count": null,
   "metadata": {},
   "outputs": [],
   "source": [
    "From the lecture, we have known that: For quadratic equation we use implicit differentiantion: r^2+2ar(dr/da)+b(dr/da)=0. \n",
    "Then solve use in conditon number defnition to get K(a).\n",
    "So we use same method and get: ∑(i=k+1 to n)a_i*r^i+∑(i=0 to k-1)a_i*r^i+a_k*r^k=0.\n",
    "(∑(i=k+1 to n)i*a_i*r^(i-1)+∑(i=1 to k-1)i*a_i*r^(i-1)+k*a_k*r^(k-1))r'+r^k=0\n",
    "r'=-r^k/p'(r)\n",
    "So we can get K_r(a_k)."
   ]
  },
  {
   "cell_type": "markdown",
   "metadata": {},
   "source": [
    "---\n",
    "\n",
    "## Exercise 1.3.2\n",
    "\n",
    "In statistics, one defines the variance of sample values $x_1,\\ldots,x_n$\n",
    "by\n",
    "\n",
    "\\begin{equation}\n",
    "s^2 = \\frac{1}{n-1} \\sum_{i=1}^n (x_i - \\overline{x})^2,\n",
    "  \\qquad \\overline{x} = \\frac{1}{n} \\sum_{i=1}^n x_i.\n",
    "  \\label{eqn1}\n",
    "\\end{equation}\n",
    "\n",
    "Write a Julia function\n",
    "\n",
    "```julia\n",
    "function samplevar(x)\n",
    "```\n",
    "\n",
    "that takes as input a vector $x$ of any length and returns $s^2$ as calculated by the formula. You should test your function on some artificial data. If you enter `using Statistics` in Julia, then you can compare to results of the `var` function."
   ]
  },
  {
   "cell_type": "code",
   "execution_count": 16,
   "metadata": {},
   "outputs": [
    {
     "data": {
      "text/plain": [
       "1.0"
      ]
     },
     "execution_count": 16,
     "metadata": {},
     "output_type": "execute_result"
    }
   ],
   "source": [
    "function samplevar(x)\n",
    "    n=length(x)\n",
    "    xave=sum(x)/n\n",
    "    s=zeros(n)\n",
    "    for i=1:n\n",
    "        s[i]=(x[i]-xave)^2\n",
    "    end\n",
    "    s2=(1/(n-1))*sum(s)\n",
    "    return s2\n",
    "end\n",
    "\n",
    "using Statistics\n",
    "var(x)"
   ]
  },
  {
   "cell_type": "markdown",
   "metadata": {},
   "source": [
    "---\n",
    "\n",
    "## Exercise 1.3.7\n",
    "\n",
    "(Continuation of Exercise 1.3.2. Adapted from [Accuracy and Stability of Numerical Algorithms](https://epubs.siam.org/doi/book/10.1137/1.9780898718027?mobileUi=0), by Nicholas J. Higham.) One problem with the formula (1) for sample variance is that one computes a sum for $\\bar{x}$, then another sum to find $s^2$. Some statistics textbooks quote a one-pass formula,\n",
    "\n",
    "\\begin{split}\n",
    "s^2 &= \\frac{1}{n-1} \\left( u - \\tfrac{1}{n}v^2 \\right),\\\\\n",
    "u & = \\sum_{i=1}^n x_i^2, \\\\\n",
    "v &= \\sum_{i=1}^n x_i.\n",
    "\\end{split}\n",
    "\n",
    "\"One-pass\" means that both $u$ and $v$ can be computed in a single loop (loops can be avoided altogether using the `sum` command). Try this formula for the two data sets\n",
    "\n",
    "```julia\n",
    "x = [1e6, 1+1e6, 2+1e6]\n",
    "x = [1e9, 1+1e9, 2+1e9]\n",
    "```\n",
    "\n",
    "computing the relative difference from the output of your earlier `samplevar` function. Explain the results."
   ]
  },
  {
   "cell_type": "code",
   "execution_count": 15,
   "metadata": {},
   "outputs": [
    {
     "data": {
      "text/plain": [
       "(1.0, 1.0)"
      ]
     },
     "execution_count": 15,
     "metadata": {},
     "output_type": "execute_result"
    }
   ],
   "source": [
    "x = [1e6, 1+1e6, 2+1e6]\n",
    "s21=samplevar(x)\n",
    "\n",
    "x = [1e9, 1+1e9, 2+1e9]\n",
    "s22=samplevar(x)\n",
    "\n",
    "s21,s22"
   ]
  },
  {
   "cell_type": "markdown",
   "metadata": {},
   "source": [
    "---"
   ]
  }
 ],
 "metadata": {
  "kernelspec": {
   "display_name": "Julia 1.5.1",
   "language": "julia",
   "name": "julia-1.5"
  },
  "language_info": {
   "file_extension": ".jl",
   "mimetype": "application/julia",
   "name": "julia",
   "version": "1.5.1"
  }
 },
 "nbformat": 4,
 "nbformat_minor": 4
}
